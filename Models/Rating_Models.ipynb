{
 "cells": [
  {
   "cell_type": "markdown",
   "metadata": {},
   "source": [
    "# Rating Models"
   ]
  },
  {
   "cell_type": "code",
   "execution_count": 20,
   "metadata": {},
   "outputs": [
    {
     "name": "stderr",
     "output_type": "stream",
     "text": [
      "[nltk_data] Downloading package stopwords to\n",
      "[nltk_data]     /Users/sanyas/nltk_data...\n",
      "[nltk_data]   Package stopwords is already up-to-date!\n",
      "[nltk_data] Downloading package punkt to /Users/sanyas/nltk_data...\n",
      "[nltk_data]   Package punkt is already up-to-date!\n",
      "[nltk_data] Downloading package wordnet to /Users/sanyas/nltk_data...\n",
      "[nltk_data]   Package wordnet is already up-to-date!\n"
     ]
    }
   ],
   "source": [
    "import numpy as np # linear algebra\n",
    "import pandas as pd # data processing, CSV file I/O (e.g. pd.read_csv)\n",
    "import re # regular expression libary.\n",
    "import nltk # Natural Language toolkit\n",
    "nltk.download(\"stopwords\")  #downloading stopwords\n",
    "nltk.download('punkt')\n",
    "from nltk import word_tokenize,sent_tokenize\n",
    "nltk.download('wordnet')\n",
    "import nltk as nlp"
   ]
  },
  {
   "cell_type": "code",
   "execution_count": 21,
   "metadata": {},
   "outputs": [],
   "source": [
    "df = pd.read_csv(\"cleaned_nlp.csv\")"
   ]
  },
  {
   "cell_type": "code",
   "execution_count": 22,
   "metadata": {},
   "outputs": [],
   "source": [
    "df = df.drop('Unnamed: 0', axis=1)"
   ]
  },
  {
   "cell_type": "code",
   "execution_count": 23,
   "metadata": {},
   "outputs": [
    {
     "data": {
      "text/html": [
       "<div>\n",
       "<style scoped>\n",
       "    .dataframe tbody tr th:only-of-type {\n",
       "        vertical-align: middle;\n",
       "    }\n",
       "\n",
       "    .dataframe tbody tr th {\n",
       "        vertical-align: top;\n",
       "    }\n",
       "\n",
       "    .dataframe thead th {\n",
       "        text-align: right;\n",
       "    }\n",
       "</style>\n",
       "<table border=\"1\" class=\"dataframe\">\n",
       "  <thead>\n",
       "    <tr style=\"text-align: right;\">\n",
       "      <th></th>\n",
       "      <th>Review</th>\n",
       "      <th>Rating</th>\n",
       "    </tr>\n",
       "  </thead>\n",
       "  <tbody>\n",
       "    <tr>\n",
       "      <th>0</th>\n",
       "      <td>nice hotel expensive parking got good deal sta...</td>\n",
       "      <td>4</td>\n",
       "    </tr>\n",
       "    <tr>\n",
       "      <th>1</th>\n",
       "      <td>ok nothing special charge diamond member hilto...</td>\n",
       "      <td>2</td>\n",
       "    </tr>\n",
       "    <tr>\n",
       "      <th>2</th>\n",
       "      <td>nice rooms not 4* experience hotel monaco seat...</td>\n",
       "      <td>3</td>\n",
       "    </tr>\n",
       "    <tr>\n",
       "      <th>3</th>\n",
       "      <td>unique, great stay, wonderful time hotel monac...</td>\n",
       "      <td>5</td>\n",
       "    </tr>\n",
       "    <tr>\n",
       "      <th>4</th>\n",
       "      <td>great stay great stay, went seahawk game aweso...</td>\n",
       "      <td>5</td>\n",
       "    </tr>\n",
       "  </tbody>\n",
       "</table>\n",
       "</div>"
      ],
      "text/plain": [
       "                                              Review  Rating\n",
       "0  nice hotel expensive parking got good deal sta...       4\n",
       "1  ok nothing special charge diamond member hilto...       2\n",
       "2  nice rooms not 4* experience hotel monaco seat...       3\n",
       "3  unique, great stay, wonderful time hotel monac...       5\n",
       "4  great stay great stay, went seahawk game aweso...       5"
      ]
     },
     "execution_count": 23,
     "metadata": {},
     "output_type": "execute_result"
    }
   ],
   "source": [
    "df.head()"
   ]
  },
  {
   "cell_type": "code",
   "execution_count": 24,
   "metadata": {},
   "outputs": [],
   "source": [
    "index = df.index\n",
    "df['random_number'] = np.random.randn(len(index))\n",
    "train = df[df['random_number'] <= 0.8]\n",
    "test = df[df['random_number'] > 0.8]"
   ]
  },
  {
   "cell_type": "code",
   "execution_count": 25,
   "metadata": {},
   "outputs": [],
   "source": [
    "# count vectorizer:\n",
    "from sklearn.feature_extraction.text import CountVectorizer\n",
    "vectorizer = CountVectorizer(token_pattern=r'\\b\\w+\\b')\n",
    "train_matrix = vectorizer.fit_transform(train['Review'])\n",
    "test_matrix = vectorizer.transform(test['Review'])"
   ]
  },
  {
   "cell_type": "code",
   "execution_count": 26,
   "metadata": {},
   "outputs": [],
   "source": [
    "X_train = train_matrix\n",
    "X_test = test_matrix\n",
    "y_train = train['Rating']\n",
    "y_test = test['Rating']"
   ]
  },
  {
   "cell_type": "markdown",
   "metadata": {},
   "source": [
    "## Logistic Regression"
   ]
  },
  {
   "cell_type": "code",
   "execution_count": 35,
   "metadata": {},
   "outputs": [
    {
     "name": "stdout",
     "output_type": "stream",
     "text": [
      "0.5873674504379899\n",
      "[[0.04472107 0.01890272 0.00253573 0.00184417 0.00069156]\n",
      " [0.01936376 0.0373444  0.02028585 0.01106501 0.00299677]\n",
      " [0.00368834 0.01959428 0.03596127 0.04126325 0.01221761]\n",
      " [0.00138313 0.00783771 0.02766252 0.13854311 0.11157215]\n",
      " [0.00046104 0.00230521 0.00599355 0.10096819 0.3307976 ]]\n"
     ]
    }
   ],
   "source": [
    "from sklearn.linear_model import LogisticRegression\n",
    "\n",
    "# train logistic regression model\n",
    "clf = LogisticRegression(max_iter=2000, random_state=123, multi_class='multinomial').fit(X_train, y_train)\n",
    "\n",
    "# predict labels\n",
    "preds = clf.predict(X_test)\n",
    "\n",
    "# calculatre accuracy\n",
    "score = clf.score(X_test, y_test)\n",
    "print(score)\n",
    "\n",
    "# calculate confusion matrix\n",
    "cm = confusion_matrix(y_test, preds) \n",
    "print(cm / len(y_test))"
   ]
  },
  {
   "cell_type": "code",
   "execution_count": 36,
   "metadata": {},
   "outputs": [
    {
     "name": "stdout",
     "output_type": "stream",
     "text": [
      "Accuracy of Logistic Regression: 0.5873674504379899\n",
      "              precision    recall  f1-score   support\n",
      "\n",
      "           1       0.65      0.64      0.65       302\n",
      "           2       0.41      0.43      0.42       373\n",
      "           3       0.32      0.39      0.35       401\n",
      "           4       0.48      0.47      0.48      1274\n",
      "           5       0.75      0.72      0.74      1988\n",
      "\n",
      "    accuracy                           0.59      4338\n",
      "   macro avg       0.52      0.53      0.53      4338\n",
      "weighted avg       0.60      0.59      0.59      4338\n",
      "\n"
     ]
    }
   ],
   "source": [
    "from sklearn.metrics import accuracy_score\n",
    "print(\"Accuracy of Logistic Regression:\",accuracy_score(y_test, preds))\n",
    "print(classification_report(preds,y_test))"
   ]
  },
  {
   "cell_type": "markdown",
   "metadata": {},
   "source": [
    "## Multinomial Naive Bayes"
   ]
  },
  {
   "cell_type": "code",
   "execution_count": 40,
   "metadata": {},
   "outputs": [],
   "source": [
    "from sklearn.naive_bayes import MultinomialNB\n",
    "model_gn = MultinomialNB()"
   ]
  },
  {
   "cell_type": "code",
   "execution_count": 41,
   "metadata": {},
   "outputs": [
    {
     "data": {
      "text/plain": [
       "MultinomialNB()"
      ]
     },
     "execution_count": 41,
     "metadata": {},
     "output_type": "execute_result"
    }
   ],
   "source": [
    "model_gn.fit(X_train, y_train)"
   ]
  },
  {
   "cell_type": "code",
   "execution_count": 42,
   "metadata": {},
   "outputs": [],
   "source": [
    "predict_mn = model_gn.predict(X_test)"
   ]
  },
  {
   "cell_type": "code",
   "execution_count": 43,
   "metadata": {},
   "outputs": [
    {
     "data": {
      "text/plain": [
       "array([[ 105,   20,    2,    0,    0],\n",
       "       [ 106,  111,   30,   10,    0],\n",
       "       [  10,   23,   10,    1,    0],\n",
       "       [  66,  204,  310,  654,  265],\n",
       "       [  18,   47,   90,  685, 1586]])"
      ]
     },
     "execution_count": 43,
     "metadata": {},
     "output_type": "execute_result"
    }
   ],
   "source": [
    "from sklearn.metrics import confusion_matrix,classification_report\n",
    "new = np.asarray(y_test)\n",
    "confusion_matrix(predict_mn,y_test)"
   ]
  },
  {
   "cell_type": "code",
   "execution_count": 44,
   "metadata": {},
   "outputs": [
    {
     "name": "stdout",
     "output_type": "stream",
     "text": [
      "Accuracy of NB: 0.5665058580289456\n",
      "              precision    recall  f1-score   support\n",
      "\n",
      "           1       0.34      0.83      0.49       127\n",
      "           2       0.27      0.43      0.34       257\n",
      "           3       0.02      0.23      0.04        44\n",
      "           4       0.48      0.44      0.46      1499\n",
      "           5       0.86      0.65      0.74      2426\n",
      "\n",
      "    accuracy                           0.57      4353\n",
      "   macro avg       0.40      0.52      0.41      4353\n",
      "weighted avg       0.67      0.57      0.61      4353\n",
      "\n"
     ]
    }
   ],
   "source": [
    "print(\"Accuracy of NB:\",accuracy_score(y_test, predict_mn))\n",
    "print(classification_report(predict_mn,y_test))"
   ]
  },
  {
   "cell_type": "markdown",
   "metadata": {},
   "source": [
    "## Random Forest"
   ]
  },
  {
   "cell_type": "code",
   "execution_count": 46,
   "metadata": {},
   "outputs": [
    {
     "name": "stdout",
     "output_type": "stream",
     "text": [
      "Accuracy of Random Forest Classifier: 0.4974642692485016\n",
      "              precision    recall  f1-score   support\n",
      "\n",
      "           1       0.39      0.70      0.50       168\n",
      "           2       0.06      0.46      0.11        52\n",
      "           3       0.02      0.31      0.04        36\n",
      "           4       0.27      0.34      0.30       984\n",
      "           5       0.87      0.54      0.67      3098\n",
      "\n",
      "    accuracy                           0.50      4338\n",
      "   macro avg       0.32      0.47      0.32      4338\n",
      "weighted avg       0.70      0.50      0.57      4338\n",
      "\n"
     ]
    }
   ],
   "source": [
    "from sklearn.ensemble import RandomForestClassifier\n",
    "\n",
    "rf = RandomForestClassifier(max_depth=100, n_estimators=30, criterion='entropy', min_samples_split=2).fit(X_train, y_train)\n",
    "\n",
    "y_pred_rf=rf.predict(X_test)\n",
    "\n",
    "print(\"Accuracy of Random Forest Classifier:\",accuracy_score(y_test, y_pred_rf))\n",
    "print(classification_report(y_pred_rf,y_test))"
   ]
  },
  {
   "cell_type": "markdown",
   "metadata": {},
   "source": [
    "## Decision Tree"
   ]
  },
  {
   "cell_type": "code",
   "execution_count": 71,
   "metadata": {},
   "outputs": [],
   "source": [
    "from sklearn.tree import DecisionTreeClassifier\n",
    "\n",
    "dt = DecisionTreeClassifier(criterion='entropy', max_depth=5, min_samples_split=4, min_samples_leaf=5)"
   ]
  },
  {
   "cell_type": "code",
   "execution_count": 72,
   "metadata": {},
   "outputs": [
    {
     "data": {
      "text/plain": [
       "DecisionTreeClassifier(criterion='entropy', max_depth=5, min_samples_leaf=5,\n",
       "                       min_samples_split=4)"
      ]
     },
     "execution_count": 72,
     "metadata": {},
     "output_type": "execute_result"
    }
   ],
   "source": [
    "dt.fit(X_train, y_train)"
   ]
  },
  {
   "cell_type": "code",
   "execution_count": 73,
   "metadata": {},
   "outputs": [
    {
     "name": "stdout",
     "output_type": "stream",
     "text": [
      "Accuracy of Decision Tree: 0.4598893499308437\n",
      "              precision    recall  f1-score   support\n",
      "\n",
      "           1       0.14      0.54      0.23        80\n",
      "           2       0.31      0.25      0.28       480\n",
      "           3       0.03      0.21      0.05        73\n",
      "           4       0.21      0.35      0.26       747\n",
      "           5       0.81      0.53      0.64      2958\n",
      "\n",
      "    accuracy                           0.46      4338\n",
      "   macro avg       0.30      0.37      0.29      4338\n",
      "weighted avg       0.63      0.46      0.52      4338\n",
      "\n"
     ]
    }
   ],
   "source": [
    "y_pred_dt=dt.predict(X_test)\n",
    "\n",
    "print(\"Accuracy of Decision Tree:\",accuracy_score(y_test, y_pred_dt))\n",
    "print(classification_report(y_pred_dt,y_test))"
   ]
  },
  {
   "cell_type": "markdown",
   "metadata": {},
   "source": [
    "## KNN"
   ]
  },
  {
   "cell_type": "code",
   "execution_count": 67,
   "metadata": {},
   "outputs": [
    {
     "name": "stdout",
     "output_type": "stream",
     "text": [
      "Accuracy of k-nearest neighbours Classifier: 0.4691101890272015\n",
      "              precision    recall  f1-score   support\n",
      "\n",
      "           1       0.35      0.34      0.34       307\n",
      "           2       0.15      0.35      0.21       169\n",
      "           3       0.15      0.24      0.18       313\n",
      "           4       0.40      0.38      0.39      1303\n",
      "           5       0.68      0.58      0.63      2246\n",
      "\n",
      "    accuracy                           0.47      4338\n",
      "   macro avg       0.35      0.38      0.35      4338\n",
      "weighted avg       0.51      0.47      0.49      4338\n",
      "\n"
     ]
    }
   ],
   "source": [
    "from sklearn.neighbors import KNeighborsClassifier \n",
    "\n",
    "knn = KNeighborsClassifier(n_neighbors = 5).fit(X_train, y_train)\n",
    "\n",
    "y_pred_knn=knn.predict(X_test)\n",
    "\n",
    "print(\"Accuracy of k-nearest neighbours Classifier:\",accuracy_score(y_test, y_pred_knn))\n",
    "print(classification_report(y_pred_knn,y_test))"
   ]
  },
  {
   "cell_type": "code",
   "execution_count": 38,
   "metadata": {},
   "outputs": [],
   "source": [
    "import tez\n",
    "import torch\n",
    "import torch.nn as nn\n",
    "import transformers\n",
    "from transformers import AdamW, get_linear_schedule_with_warmup\n",
    "from sklearn.metrics import accuracy_score"
   ]
  },
  {
   "cell_type": "code",
   "execution_count": 39,
   "metadata": {},
   "outputs": [],
   "source": [
    "DEVICE = torch.device(\"cuda:0\" if torch.cuda.is_available() else \"cpu\")"
   ]
  },
  {
   "cell_type": "code",
   "execution_count": 40,
   "metadata": {},
   "outputs": [],
   "source": [
    "class BertDataset:\n",
    "    def __init__(self, texts, targets, max_len = 64):\n",
    "        self.texts = texts\n",
    "        self.targets = targets\n",
    "        self.tokenizer = transformers.BertTokenizer.from_pretrained(\n",
    "            \"bert-base-uncased\",\n",
    "            do_lower_case = False\n",
    "            )\n",
    "        self.max_len = max_len\n",
    "\n",
    "    def __len__(self):\n",
    "        return len(self.texts)\n",
    "\n",
    "    def __getitem__(self, idx):\n",
    "        text = str(self.texts[idx])\n",
    "        inputs = self.tokenizer.encode_plus(\n",
    "            text,\n",
    "            None,\n",
    "            add_special_tokens = True,\n",
    "            max_length = self.max_len,\n",
    "            padding = 'max_length',\n",
    "            truncation = True\n",
    "        )\n",
    "        resp = {\n",
    "            'ids': torch.tensor(inputs['input_ids'], dtype = torch.long),\n",
    "            'mask': torch.tensor(inputs['attention_mask'], dtype = torch.long),\n",
    "            'token_type_ids': torch.tensor(inputs['token_type_ids'], dtype = torch.long),\n",
    "            'targets': torch.tensor(self.targets[idx], dtype = torch.long),\n",
    "        }\n",
    "        return resp"
   ]
  },
  {
   "cell_type": "code",
   "execution_count": 41,
   "metadata": {},
   "outputs": [],
   "source": [
    "class TextModel(tez.Model):\n",
    "    def __init__(self, num_classes, num_train_steps):\n",
    "        super().__init__()\n",
    "        self.bert = transformers.BertModel.from_pretrained(\n",
    "            'bert-base-uncased', return_dict = False)\n",
    "        self.bert_drop = nn.Dropout(0.3)\n",
    "        self.out = nn.Linear(768, num_classes)\n",
    "        self.num_train_steps = num_train_steps\n",
    "        self.step_scheduler_after = 'batch'\n",
    "        \n",
    "    def fetch_optimizer(self):\n",
    "        opt = AdamW(self.parameters(), lr = 3e-5)\n",
    "        return opt\n",
    "\n",
    "    def fetch_scheduler(self):\n",
    "        sch = get_linear_schedule_with_warmup(\n",
    "            self.optimizer,\n",
    "            num_warmup_steps = 0,\n",
    "            num_training_steps = self.num_train_steps)\n",
    "        return sch\n",
    "\n",
    "    def loss(self, outputs, targets):\n",
    "        return nn.CrossEntropyLoss()(outputs, targets)\n",
    "\n",
    "    def monitor_metrics(self, outputs, targets):\n",
    "        out = torch.argmax(outputs, axis = 1).cpu().detach().numpy()\n",
    "        tag = targets.cpu().detach().numpy()\n",
    "\n",
    "        return {'accuracy' : accuracy_score(out, tag)}\n",
    "\n",
    "    def forward(self, ids, mask, token_type_ids, targets = None):\n",
    "        _, x = self.bert(ids, attention_mask = mask, token_type_ids = token_type_ids)\n",
    "        x = self.bert_drop(x)\n",
    "        x = self.out(x)\n",
    "        if targets is not None:\n",
    "            loss = self.loss(x, targets)\n",
    "            met = self.monitor_metrics(x, targets)\n",
    "            return x, loss, met\n",
    "        return x, 0, {}"
   ]
  },
  {
   "cell_type": "code",
   "execution_count": 42,
   "metadata": {},
   "outputs": [],
   "source": [
    "def train_model(fold, df, train_idx, val_idx):\n",
    "    df_train = df.iloc[train_idx, :].reset_index(drop = True)\n",
    "    df_val = df.iloc[val_idx, :].reset_index(drop = True)\n",
    "\n",
    "    train_dataset = BertDataset(df_train.Review.values, df_train.Rating.values)\n",
    "    val_dataset = BertDataset(df_val.Review.values, df_val.Rating.values)\n",
    "    whole_dataset = BertDataset(df.Review.values, df.Rating.values)\n",
    "    \n",
    "    n_train_steps = int(len(df_train) / TRAIN_BS * EPOCHS)\n",
    "    model = TextModel(num_classes = 5,\n",
    "                      num_train_steps= n_train_steps)\n",
    "\n",
    "    es = tez.callbacks.EarlyStopping(monitor = 'valid_loss', patience = 1, model_path=\"model.bin\")\n",
    "    model.fit(\n",
    "        train_dataset,\n",
    "        valid_dataset = val_dataset,\n",
    "        device = DEVICE,\n",
    "        epochs = 200,\n",
    "        train_bs = 32,\n",
    "        callbacks = [es])\n",
    "    model.load('model.bin', device = DEVICE)\n",
    "    pred = model.predict(whole_dataset, device = DEVICE)\n",
    "    return pd.Series([p for p in pred])"
   ]
  },
  {
   "cell_type": "code",
   "execution_count": 43,
   "metadata": {},
   "outputs": [],
   "source": [
    "TRAIN_BS = 32\n",
    "EPOCHS = 200\n",
    "from sklearn.model_selection import StratifiedKFold\n",
    "skf = StratifiedKFold(n_splits = 5, shuffle = True, random_state = 0)"
   ]
  },
  {
   "cell_type": "code",
   "execution_count": null,
   "metadata": {},
   "outputs": [
    {
     "data": {
      "application/vnd.jupyter.widget-view+json": {
       "model_id": "2b7c6a60ceef428d813b09f9519c6a69",
       "version_major": 2,
       "version_minor": 0
      },
      "text/plain": [
       "HBox(children=(FloatProgress(value=0.0, description='Downloading', max=231508.0, style=ProgressStyle(descripti…"
      ]
     },
     "metadata": {},
     "output_type": "display_data"
    },
    {
     "name": "stdout",
     "output_type": "stream",
     "text": [
      "\n"
     ]
    },
    {
     "data": {
      "application/vnd.jupyter.widget-view+json": {
       "model_id": "98eb17ae0fb94581b9598116298d13ba",
       "version_major": 2,
       "version_minor": 0
      },
      "text/plain": [
       "HBox(children=(FloatProgress(value=0.0, description='Downloading', max=433.0, style=ProgressStyle(description_…"
      ]
     },
     "metadata": {},
     "output_type": "display_data"
    },
    {
     "name": "stdout",
     "output_type": "stream",
     "text": [
      "\n"
     ]
    },
    {
     "data": {
      "application/vnd.jupyter.widget-view+json": {
       "model_id": "2be25250015f4d9f8519143616af0182",
       "version_major": 2,
       "version_minor": 0
      },
      "text/plain": [
       "HBox(children=(FloatProgress(value=0.0, description='Downloading', max=440473133.0, style=ProgressStyle(descri…"
      ]
     },
     "metadata": {},
     "output_type": "display_data"
    },
    {
     "name": "stdout",
     "output_type": "stream",
     "text": [
      "\n"
     ]
    },
    {
     "name": "stderr",
     "output_type": "stream",
     "text": [
      "\r",
      "  0%|          | 0/402 [00:00<?, ?it/s]"
     ]
    }
   ],
   "source": [
    "df['pred'] = 0\n",
    "pred_folds = {}\n",
    "for i, (train_idx, val_idx) in enumerate(skf.split(X = train, y = train.Rating)):\n",
    "    pred = train_model(fold = i, df = df, train_idx = train_idx, val_idx = val_idx)\n",
    "    pred_folds[i] = pred"
   ]
  },
  {
   "cell_type": "code",
   "execution_count": null,
   "metadata": {},
   "outputs": [],
   "source": []
  }
 ],
 "metadata": {
  "kernelspec": {
   "display_name": "Python 3",
   "language": "python",
   "name": "python3"
  },
  "language_info": {
   "codemirror_mode": {
    "name": "ipython",
    "version": 3
   },
   "file_extension": ".py",
   "mimetype": "text/x-python",
   "name": "python",
   "nbconvert_exporter": "python",
   "pygments_lexer": "ipython3",
   "version": "3.8.3"
  }
 },
 "nbformat": 4,
 "nbformat_minor": 2
}

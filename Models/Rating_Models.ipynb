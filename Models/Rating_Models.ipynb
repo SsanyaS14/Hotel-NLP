{
 "cells": [
  {
   "cell_type": "markdown",
   "metadata": {},
   "source": [
    "# Rating Models"
   ]
  },
  {
   "cell_type": "code",
   "execution_count": 1,
   "metadata": {},
   "outputs": [
    {
     "name": "stderr",
     "output_type": "stream",
     "text": [
      "[nltk_data] Downloading package stopwords to\n",
      "[nltk_data]     /Users/sanyas/nltk_data...\n",
      "[nltk_data]   Package stopwords is already up-to-date!\n",
      "[nltk_data] Downloading package punkt to /Users/sanyas/nltk_data...\n",
      "[nltk_data]   Package punkt is already up-to-date!\n",
      "[nltk_data] Downloading package wordnet to /Users/sanyas/nltk_data...\n",
      "[nltk_data]   Package wordnet is already up-to-date!\n"
     ]
    }
   ],
   "source": [
    "import numpy as np # linear algebra\n",
    "import pandas as pd # data processing, CSV file I/O (e.g. pd.read_csv)\n",
    "import re # regular expression libary.\n",
    "import nltk # Natural Language toolkit\n",
    "nltk.download(\"stopwords\")  #downloading stopwords\n",
    "nltk.download('punkt')\n",
    "from nltk import word_tokenize,sent_tokenize\n",
    "nltk.download('wordnet')\n",
    "import nltk as nlp"
   ]
  },
  {
   "cell_type": "code",
   "execution_count": 2,
   "metadata": {},
   "outputs": [],
   "source": [
    "df = pd.read_csv(\"cleaned_nlp.csv\")"
   ]
  },
  {
   "cell_type": "code",
   "execution_count": 3,
   "metadata": {},
   "outputs": [],
   "source": [
    "df = df.drop('Unnamed: 0', axis=1)"
   ]
  },
  {
   "cell_type": "code",
   "execution_count": 4,
   "metadata": {},
   "outputs": [
    {
     "data": {
      "text/html": [
       "<div>\n",
       "<style scoped>\n",
       "    .dataframe tbody tr th:only-of-type {\n",
       "        vertical-align: middle;\n",
       "    }\n",
       "\n",
       "    .dataframe tbody tr th {\n",
       "        vertical-align: top;\n",
       "    }\n",
       "\n",
       "    .dataframe thead th {\n",
       "        text-align: right;\n",
       "    }\n",
       "</style>\n",
       "<table border=\"1\" class=\"dataframe\">\n",
       "  <thead>\n",
       "    <tr style=\"text-align: right;\">\n",
       "      <th></th>\n",
       "      <th>Review</th>\n",
       "      <th>Rating</th>\n",
       "    </tr>\n",
       "  </thead>\n",
       "  <tbody>\n",
       "    <tr>\n",
       "      <th>0</th>\n",
       "      <td>nice hotel expensive parking got good deal sta...</td>\n",
       "      <td>4</td>\n",
       "    </tr>\n",
       "    <tr>\n",
       "      <th>1</th>\n",
       "      <td>ok nothing special charge diamond member hilto...</td>\n",
       "      <td>2</td>\n",
       "    </tr>\n",
       "    <tr>\n",
       "      <th>2</th>\n",
       "      <td>nice rooms not 4* experience hotel monaco seat...</td>\n",
       "      <td>3</td>\n",
       "    </tr>\n",
       "    <tr>\n",
       "      <th>3</th>\n",
       "      <td>unique, great stay, wonderful time hotel monac...</td>\n",
       "      <td>5</td>\n",
       "    </tr>\n",
       "    <tr>\n",
       "      <th>4</th>\n",
       "      <td>great stay great stay, went seahawk game aweso...</td>\n",
       "      <td>5</td>\n",
       "    </tr>\n",
       "  </tbody>\n",
       "</table>\n",
       "</div>"
      ],
      "text/plain": [
       "                                              Review  Rating\n",
       "0  nice hotel expensive parking got good deal sta...       4\n",
       "1  ok nothing special charge diamond member hilto...       2\n",
       "2  nice rooms not 4* experience hotel monaco seat...       3\n",
       "3  unique, great stay, wonderful time hotel monac...       5\n",
       "4  great stay great stay, went seahawk game aweso...       5"
      ]
     },
     "execution_count": 4,
     "metadata": {},
     "output_type": "execute_result"
    }
   ],
   "source": [
    "df.head()"
   ]
  },
  {
   "cell_type": "code",
   "execution_count": 5,
   "metadata": {},
   "outputs": [],
   "source": [
    "index = df.index\n",
    "df['random_number'] = np.random.randn(len(index))\n",
    "train = df[df['random_number'] <= 0.8]\n",
    "test = df[df['random_number'] > 0.8]"
   ]
  },
  {
   "cell_type": "code",
   "execution_count": 6,
   "metadata": {},
   "outputs": [],
   "source": [
    "# count vectorizer:\n",
    "from sklearn.feature_extraction.text import CountVectorizer\n",
    "vectorizer = CountVectorizer(token_pattern=r'\\b\\w+\\b')\n",
    "train_matrix = vectorizer.fit_transform(train['Review'])\n",
    "test_matrix = vectorizer.transform(test['Review'])"
   ]
  },
  {
   "cell_type": "code",
   "execution_count": 7,
   "metadata": {},
   "outputs": [],
   "source": [
    "X_train = train_matrix\n",
    "X_test = test_matrix\n",
    "y_train = train['Rating']\n",
    "y_test = test['Rating']"
   ]
  },
  {
   "cell_type": "markdown",
   "metadata": {},
   "source": [
    "## Multinomial Logistic Regression"
   ]
  },
  {
   "cell_type": "code",
   "execution_count": 35,
   "metadata": {},
   "outputs": [
    {
     "name": "stdout",
     "output_type": "stream",
     "text": [
      "0.5873674504379899\n",
      "[[0.04472107 0.01890272 0.00253573 0.00184417 0.00069156]\n",
      " [0.01936376 0.0373444  0.02028585 0.01106501 0.00299677]\n",
      " [0.00368834 0.01959428 0.03596127 0.04126325 0.01221761]\n",
      " [0.00138313 0.00783771 0.02766252 0.13854311 0.11157215]\n",
      " [0.00046104 0.00230521 0.00599355 0.10096819 0.3307976 ]]\n"
     ]
    }
   ],
   "source": [
    "from sklearn.linear_model import LogisticRegression\n",
    "from sklearn.metrics import confusion_matrix,classification_report\n",
    "# train logistic regression model\n",
    "clf = LogisticRegression(max_iter=2000, random_state=123, multi_class='multinomial').fit(X_train, y_train)\n",
    "\n",
    "# predict labels\n",
    "preds = clf.predict(X_test)\n",
    "\n",
    "# calculatre accuracy\n",
    "score = clf.score(X_test, y_test)\n",
    "print(score)\n",
    "\n",
    "# calculate confusion matrix\n",
    "cm = confusion_matrix(y_test, preds) \n",
    "print(cm / len(y_test))"
   ]
  },
  {
   "cell_type": "code",
   "execution_count": 36,
   "metadata": {},
   "outputs": [
    {
     "name": "stdout",
     "output_type": "stream",
     "text": [
      "Accuracy of Logistic Regression: 0.5873674504379899\n",
      "              precision    recall  f1-score   support\n",
      "\n",
      "           1       0.65      0.64      0.65       302\n",
      "           2       0.41      0.43      0.42       373\n",
      "           3       0.32      0.39      0.35       401\n",
      "           4       0.48      0.47      0.48      1274\n",
      "           5       0.75      0.72      0.74      1988\n",
      "\n",
      "    accuracy                           0.59      4338\n",
      "   macro avg       0.52      0.53      0.53      4338\n",
      "weighted avg       0.60      0.59      0.59      4338\n",
      "\n"
     ]
    }
   ],
   "source": [
    "from sklearn.metrics import accuracy_score\n",
    "print(\"Accuracy of Logistic Regression:\",accuracy_score(y_test, preds))\n",
    "print(classification_report(preds,y_test))"
   ]
  },
  {
   "cell_type": "markdown",
   "metadata": {},
   "source": [
    "## Multinomial Naive Bayes"
   ]
  },
  {
   "cell_type": "code",
   "execution_count": 40,
   "metadata": {},
   "outputs": [],
   "source": [
    "from sklearn.naive_bayes import MultinomialNB\n",
    "model_gn = MultinomialNB()"
   ]
  },
  {
   "cell_type": "code",
   "execution_count": 41,
   "metadata": {},
   "outputs": [
    {
     "data": {
      "text/plain": [
       "MultinomialNB()"
      ]
     },
     "execution_count": 41,
     "metadata": {},
     "output_type": "execute_result"
    }
   ],
   "source": [
    "model_gn.fit(X_train, y_train)"
   ]
  },
  {
   "cell_type": "code",
   "execution_count": 42,
   "metadata": {},
   "outputs": [],
   "source": [
    "predict_mn = model_gn.predict(X_test)"
   ]
  },
  {
   "cell_type": "code",
   "execution_count": 43,
   "metadata": {},
   "outputs": [
    {
     "data": {
      "text/plain": [
       "array([[ 105,   20,    2,    0,    0],\n",
       "       [ 106,  111,   30,   10,    0],\n",
       "       [  10,   23,   10,    1,    0],\n",
       "       [  66,  204,  310,  654,  265],\n",
       "       [  18,   47,   90,  685, 1586]])"
      ]
     },
     "execution_count": 43,
     "metadata": {},
     "output_type": "execute_result"
    }
   ],
   "source": [
    "from sklearn.metrics import confusion_matrix,classification_report\n",
    "new = np.asarray(y_test)\n",
    "confusion_matrix(predict_mn,y_test)"
   ]
  },
  {
   "cell_type": "code",
   "execution_count": 44,
   "metadata": {},
   "outputs": [
    {
     "name": "stdout",
     "output_type": "stream",
     "text": [
      "Accuracy of NB: 0.5665058580289456\n",
      "              precision    recall  f1-score   support\n",
      "\n",
      "           1       0.34      0.83      0.49       127\n",
      "           2       0.27      0.43      0.34       257\n",
      "           3       0.02      0.23      0.04        44\n",
      "           4       0.48      0.44      0.46      1499\n",
      "           5       0.86      0.65      0.74      2426\n",
      "\n",
      "    accuracy                           0.57      4353\n",
      "   macro avg       0.40      0.52      0.41      4353\n",
      "weighted avg       0.67      0.57      0.61      4353\n",
      "\n"
     ]
    }
   ],
   "source": [
    "print(\"Accuracy of NB:\",accuracy_score(y_test, predict_mn))\n",
    "print(classification_report(predict_mn,y_test))"
   ]
  },
  {
   "cell_type": "markdown",
   "metadata": {},
   "source": [
    "## Random Forest"
   ]
  },
  {
   "cell_type": "code",
   "execution_count": 46,
   "metadata": {},
   "outputs": [
    {
     "name": "stdout",
     "output_type": "stream",
     "text": [
      "Accuracy of Random Forest Classifier: 0.4974642692485016\n",
      "              precision    recall  f1-score   support\n",
      "\n",
      "           1       0.39      0.70      0.50       168\n",
      "           2       0.06      0.46      0.11        52\n",
      "           3       0.02      0.31      0.04        36\n",
      "           4       0.27      0.34      0.30       984\n",
      "           5       0.87      0.54      0.67      3098\n",
      "\n",
      "    accuracy                           0.50      4338\n",
      "   macro avg       0.32      0.47      0.32      4338\n",
      "weighted avg       0.70      0.50      0.57      4338\n",
      "\n"
     ]
    }
   ],
   "source": [
    "from sklearn.ensemble import RandomForestClassifier\n",
    "\n",
    "rf = RandomForestClassifier(max_depth=100, n_estimators=30, criterion='entropy', min_samples_split=2).fit(X_train, y_train)\n",
    "\n",
    "y_pred_rf=rf.predict(X_test)\n",
    "\n",
    "print(\"Accuracy of Random Forest Classifier:\",accuracy_score(y_test, y_pred_rf))\n",
    "print(classification_report(y_pred_rf,y_test))"
   ]
  },
  {
   "cell_type": "markdown",
   "metadata": {},
   "source": [
    "## Decision Tree"
   ]
  },
  {
   "cell_type": "code",
   "execution_count": 71,
   "metadata": {},
   "outputs": [],
   "source": [
    "from sklearn.tree import DecisionTreeClassifier\n",
    "\n",
    "dt = DecisionTreeClassifier(criterion='entropy', max_depth=5, min_samples_split=4, min_samples_leaf=5)"
   ]
  },
  {
   "cell_type": "code",
   "execution_count": 72,
   "metadata": {},
   "outputs": [
    {
     "data": {
      "text/plain": [
       "DecisionTreeClassifier(criterion='entropy', max_depth=5, min_samples_leaf=5,\n",
       "                       min_samples_split=4)"
      ]
     },
     "execution_count": 72,
     "metadata": {},
     "output_type": "execute_result"
    }
   ],
   "source": [
    "dt.fit(X_train, y_train)"
   ]
  },
  {
   "cell_type": "code",
   "execution_count": 73,
   "metadata": {},
   "outputs": [
    {
     "name": "stdout",
     "output_type": "stream",
     "text": [
      "Accuracy of Decision Tree: 0.4598893499308437\n",
      "              precision    recall  f1-score   support\n",
      "\n",
      "           1       0.14      0.54      0.23        80\n",
      "           2       0.31      0.25      0.28       480\n",
      "           3       0.03      0.21      0.05        73\n",
      "           4       0.21      0.35      0.26       747\n",
      "           5       0.81      0.53      0.64      2958\n",
      "\n",
      "    accuracy                           0.46      4338\n",
      "   macro avg       0.30      0.37      0.29      4338\n",
      "weighted avg       0.63      0.46      0.52      4338\n",
      "\n"
     ]
    }
   ],
   "source": [
    "y_pred_dt=dt.predict(X_test)\n",
    "\n",
    "print(\"Accuracy of Decision Tree:\",accuracy_score(y_test, y_pred_dt))\n",
    "print(classification_report(y_pred_dt,y_test))"
   ]
  },
  {
   "cell_type": "markdown",
   "metadata": {},
   "source": [
    "## KNN"
   ]
  },
  {
   "cell_type": "code",
   "execution_count": 67,
   "metadata": {},
   "outputs": [
    {
     "name": "stdout",
     "output_type": "stream",
     "text": [
      "Accuracy of k-nearest neighbours Classifier: 0.4691101890272015\n",
      "              precision    recall  f1-score   support\n",
      "\n",
      "           1       0.35      0.34      0.34       307\n",
      "           2       0.15      0.35      0.21       169\n",
      "           3       0.15      0.24      0.18       313\n",
      "           4       0.40      0.38      0.39      1303\n",
      "           5       0.68      0.58      0.63      2246\n",
      "\n",
      "    accuracy                           0.47      4338\n",
      "   macro avg       0.35      0.38      0.35      4338\n",
      "weighted avg       0.51      0.47      0.49      4338\n",
      "\n"
     ]
    }
   ],
   "source": [
    "from sklearn.neighbors import KNeighborsClassifier \n",
    "\n",
    "knn = KNeighborsClassifier(n_neighbors = 5).fit(X_train, y_train)\n",
    "\n",
    "y_pred_knn=knn.predict(X_test)\n",
    "\n",
    "print(\"Accuracy of k-nearest neighbours Classifier:\",accuracy_score(y_test, y_pred_knn))\n",
    "print(classification_report(y_pred_knn,y_test))"
   ]
  },
  {
   "cell_type": "markdown",
   "metadata": {},
   "source": [
    "## TensorFlow Neural Network"
   ]
  },
  {
   "cell_type": "code",
   "execution_count": 8,
   "metadata": {},
   "outputs": [],
   "source": [
    "from tensorflow.keras.preprocessing.text import Tokenizer\n",
    "from tensorflow.keras.preprocessing.sequence import pad_sequences\n",
    "\n",
    "from sklearn.model_selection import train_test_split\n",
    "from nltk.corpus import stopwords\n",
    "import tensorflow as tf"
   ]
  },
  {
   "cell_type": "code",
   "execution_count": 9,
   "metadata": {},
   "outputs": [],
   "source": [
    "stop_words = stopwords.words('english')"
   ]
  },
  {
   "cell_type": "code",
   "execution_count": 10,
   "metadata": {},
   "outputs": [],
   "source": [
    "def process_text(text):\n",
    "    text = re.sub(r'\\d+', ' ', text)\n",
    "    text = text.split()\n",
    "    text = \" \".join([word for word in text if word.lower().strip() not in stop_words])\n",
    "    return text"
   ]
  },
  {
   "cell_type": "code",
   "execution_count": 11,
   "metadata": {},
   "outputs": [],
   "source": [
    "reviews = df['Review'].apply(process_text)"
   ]
  },
  {
   "cell_type": "code",
   "execution_count": 12,
   "metadata": {},
   "outputs": [],
   "source": [
    "num_words = 10000\n",
    "\n",
    "tokenizer = Tokenizer(num_words=num_words)\n",
    "tokenizer.fit_on_texts(reviews)\n",
    "\n",
    "sequences = tokenizer.texts_to_sequences(reviews)"
   ]
  },
  {
   "cell_type": "code",
   "execution_count": 13,
   "metadata": {},
   "outputs": [
    {
     "name": "stdout",
     "output_type": "stream",
     "text": [
      "Max sequence length: 1752\n"
     ]
    }
   ],
   "source": [
    "max_seq_length = np.max(list(map(lambda x: len(x), sequences)))\n",
    "\n",
    "print(\"Max sequence length:\", max_seq_length)"
   ]
  },
  {
   "cell_type": "code",
   "execution_count": 14,
   "metadata": {},
   "outputs": [],
   "source": [
    "inputs = pad_sequences(sequences, maxlen=max_seq_length, padding='post')"
   ]
  },
  {
   "cell_type": "code",
   "execution_count": 15,
   "metadata": {},
   "outputs": [
    {
     "data": {
      "text/plain": [
       "array([[   8,    1,  175, ...,    0,    0,    0],\n",
       "       [ 134,  132,  261, ...,    0,    0,    0],\n",
       "       [   8,    9,   75, ...,    0,    0,    0],\n",
       "       ...,\n",
       "       [ 134,  708,    8, ...,    0,    0,    0],\n",
       "       [   1, 3756, 2459, ...,    0,    0,    0],\n",
       "       [  25, 1123,  186, ...,    0,    0,    0]], dtype=int32)"
      ]
     },
     "execution_count": 15,
     "metadata": {},
     "output_type": "execute_result"
    }
   ],
   "source": [
    "inputs"
   ]
  },
  {
   "cell_type": "code",
   "execution_count": 16,
   "metadata": {},
   "outputs": [],
   "source": [
    "labels = np.array(df['Rating'].apply(lambda x: 1 if x == 5 else 0))"
   ]
  },
  {
   "cell_type": "code",
   "execution_count": 17,
   "metadata": {},
   "outputs": [
    {
     "data": {
      "text/plain": [
       "array([0, 0, 0, ..., 0, 0, 0])"
      ]
     },
     "execution_count": 17,
     "metadata": {},
     "output_type": "execute_result"
    }
   ],
   "source": [
    "labels"
   ]
  },
  {
   "cell_type": "code",
   "execution_count": 18,
   "metadata": {},
   "outputs": [],
   "source": [
    "train_inputs, test_inputs, train_labels, test_labels = train_test_split(inputs, labels, train_size=0.7, random_state=100)"
   ]
  },
  {
   "cell_type": "code",
   "execution_count": 19,
   "metadata": {},
   "outputs": [
    {
     "name": "stdout",
     "output_type": "stream",
     "text": [
      "('Failed to import pydot. You must `pip install pydot` and install graphviz (https://graphviz.gitlab.io/download/), ', 'for `pydotprint` to work.')\n"
     ]
    }
   ],
   "source": [
    "embedding_dim = 128\n",
    "\n",
    "inputs = tf.keras.Input(shape=(max_seq_length,))\n",
    "\n",
    "embedding = tf.keras.layers.Embedding(\n",
    "    input_dim=num_words,\n",
    "    output_dim=embedding_dim,\n",
    "    input_length=max_seq_length\n",
    ")(inputs)\n",
    "\n",
    "gru = tf.keras.layers.Bidirectional(\n",
    "    tf.keras.layers.GRU(128, return_sequences=True)\n",
    ")(embedding)\n",
    "\n",
    "flatten = tf.keras.layers.Flatten()(gru)\n",
    "\n",
    "outputs = tf.keras.layers.Dense(1, activation='sigmoid')(flatten)\n",
    "\n",
    "\n",
    "model = tf.keras.Model(inputs, outputs)\n",
    "\n",
    "tf.keras.utils.plot_model(model)"
   ]
  },
  {
   "cell_type": "code",
   "execution_count": 20,
   "metadata": {},
   "outputs": [],
   "source": [
    "model.compile(\n",
    "    optimizer='adam',\n",
    "    loss='binary_crossentropy',\n",
    "    metrics=[\n",
    "        'accuracy',\n",
    "        tf.keras.metrics.AUC(name='auc')\n",
    "    ]\n",
    ")"
   ]
  },
  {
   "cell_type": "code",
   "execution_count": 21,
   "metadata": {},
   "outputs": [
    {
     "name": "stdout",
     "output_type": "stream",
     "text": [
      "Epoch 1/2\n",
      "359/359 [==============================] - 1251s 3s/step - loss: 0.6303 - accuracy: 0.6702 - auc: 0.7294 - val_loss: 0.4494 - val_accuracy: 0.7902 - val_auc: 0.8797\n",
      "Epoch 2/2\n",
      "359/359 [==============================] - 1258s 4s/step - loss: 0.3045 - accuracy: 0.8681 - auc: 0.9423 - val_loss: 0.4800 - val_accuracy: 0.7766 - val_auc: 0.8646\n"
     ]
    }
   ],
   "source": [
    "history = model.fit(\n",
    "    train_inputs,\n",
    "    train_labels,\n",
    "    validation_split=0.2,\n",
    "    batch_size=32,\n",
    "    epochs=2,\n",
    "    callbacks=[\n",
    "        tf.keras.callbacks.EarlyStopping(\n",
    "            monitor='val_accuracy',\n",
    "            patience=2,\n",
    "            restore_best_weights=True\n",
    "        )\n",
    "    ]\n",
    ")"
   ]
  },
  {
   "cell_type": "code",
   "execution_count": 22,
   "metadata": {},
   "outputs": [
    {
     "name": "stdout",
     "output_type": "stream",
     "text": [
      "193/193 [==============================] - 92s 478ms/step - loss: 0.4845 - accuracy: 0.7741 - auc: 0.8613\n"
     ]
    },
    {
     "data": {
      "text/plain": [
       "[0.48448285460472107, 0.7740728855133057, 0.8613401055335999]"
      ]
     },
     "execution_count": 22,
     "metadata": {},
     "output_type": "execute_result"
    }
   ],
   "source": [
    "model.evaluate(test_inputs, test_labels)"
   ]
  },
  {
   "cell_type": "markdown",
   "metadata": {},
   "source": [
    "## Conclusion\n",
    "The best model for predicting overall rating based on reviews for a hotel is the Tensorflow Neural Network. It fit the ideal high Accuracy with a low loss. Unfortunately, based on time, I conducted a low epoch, however, the low epoch was able to attain the ideal. If we haf done more, we would have had a higher accuracy and lower loss. The rest of the models that I had such as the Random Forest classifer, Multinomial Logistic Regression, Decision Tree, etc, were pretty bad models. I did not do much hyperparameter tuning due to time, however, in the future I can conduct a GridSearch CV to find the best parameters. However based on how off some of the models are, I predict that my tensorflow neural network will remain the best model. "
   ]
  }
 ],
 "metadata": {
  "kernelspec": {
   "display_name": "Python 3",
   "language": "python",
   "name": "python3"
  },
  "language_info": {
   "codemirror_mode": {
    "name": "ipython",
    "version": 3
   },
   "file_extension": ".py",
   "mimetype": "text/x-python",
   "name": "python",
   "nbconvert_exporter": "python",
   "pygments_lexer": "ipython3",
   "version": "3.8.3"
  }
 },
 "nbformat": 4,
 "nbformat_minor": 2
}
